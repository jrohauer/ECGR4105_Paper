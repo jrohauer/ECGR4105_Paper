{
  "nbformat": 4,
  "nbformat_minor": 0,
  "metadata": {
    "colab": {
      "provenance": [],
      "include_colab_link": true
    },
    "kernelspec": {
      "name": "python3",
      "display_name": "Python 3"
    },
    "language_info": {
      "name": "python"
    }
  },
  "cells": [
    {
      "cell_type": "markdown",
      "metadata": {
        "id": "view-in-github",
        "colab_type": "text"
      },
      "source": [
        "<a href=\"https://colab.research.google.com/github/jrohauer/ECGR4105_Paper/blob/main/Classical_Model_Testing.ipynb\" target=\"_parent\"><img src=\"https://colab.research.google.com/assets/colab-badge.svg\" alt=\"Open In Colab\"/></a>"
      ]
    },
    {
      "cell_type": "code",
      "execution_count": null,
      "metadata": {
        "id": "fObSjL8d4Okt",
        "colab": {
          "base_uri": "https://localhost:8080/"
        },
        "outputId": "83929c66-b5f4-4156-cf96-fa48bfd67489"
      },
      "outputs": [
        {
          "output_type": "stream",
          "name": "stdout",
          "text": [
            "Mounted at /content/drive\n"
          ]
        }
      ],
      "source": [
        "import yfinance as yf\n",
        "import pandas as pd\n",
        "import numpy as np\n",
        "from sklearn.model_selection import train_test_split, GridSearchCV\n",
        "from sklearn.decomposition import PCA\n",
        "from sklearn.svm import SVC, SVR\n",
        "from sklearn.pipeline import make_pipeline\n",
        "from sklearn.preprocessing import StandardScaler\n",
        "from sklearn import metrics\n",
        "from google.colab import drive\n",
        "drive.mount('/content/drive')"
      ]
    },
    {
      "cell_type": "code",
      "source": [
        "#pip install fredpy\n",
        "#import fredpy as fp\n",
        "#fp.api_key='3dbaf5ec8785a171ddd51e0225936bc2'"
      ],
      "metadata": {
        "id": "9oJlgLNI8sHm"
      },
      "execution_count": null,
      "outputs": []
    },
    {
      "cell_type": "code",
      "source": [
        "#GETTING THE DATA\n",
        "file_path = '/content/drive/My Drive/ML_data/ML_FinalProject/Finance_Datasets/dataset.csv'\n",
        "dataset = pd.read_csv(file_path)\n",
        "\n",
        "X = dataset.loc[:, ~dataset.columns.isin(['SPX','Date'])]\n",
        "Y = dataset['SPX'].values"
      ],
      "metadata": {
        "id": "oQZkJJn6UJrW"
      },
      "execution_count": null,
      "outputs": []
    },
    {
      "cell_type": "code",
      "source": [
        "#PREPROCESSING\n",
        "\n",
        "\n",
        "#Scalar normalization\n",
        "#scalerMM = MinMaxScaler()\n",
        "scalerSS = StandardScaler()\n",
        "\n",
        "\n",
        "#Min Max or Standard normalize\n",
        "X = scalerSS.fit_transform(X)\n",
        "\n",
        "pca = PCA(n_components=5)\n",
        "principalComponents = pca.fit_transform(X)\n",
        "\n",
        "np.random.seed(0)\n",
        "X_train, X_test, Y_train, Y_test = train_test_split(X,Y, train_size = 0.7, test_size = 0.3, random_state = 100)"
      ],
      "metadata": {
        "id": "n7RGKmWwJKaA"
      },
      "execution_count": null,
      "outputs": []
    },
    {
      "cell_type": "code",
      "source": [
        "# # Define models\n",
        "# svc = SVC()\n",
        "# pca = PCA()\n",
        "# pipeline = make_pipeline(pca, svc)\n",
        "\n",
        "# # Define parameters\n",
        "# param_grid = {\n",
        "#     'pca__n_components': [3, 4, 5, 6, 7],\n",
        "#     'svc__C': [0.1, 1, 10, 100],\n",
        "#     'svc__gamma': [0.001, 0.01, 0.1, 1],\n",
        "#     'svc__kernel': ['poly'], #poly 'linear', 'rbf', 'sigmoid'\n",
        "#     'svc__degree': [2, 3, 4]\n",
        "# }\n",
        "\n",
        "# # GRID SEARCH\n",
        "# k='precision'\n",
        "# grid_search = GridSearchCV(pipeline, param_grid, scoring=k, verbose=2, n_jobs=10)\n",
        "# grid_search.fit(X_train, Y_train)\n",
        "# best_params = grid_search.best_params_\n",
        "# best_model = grid_search.best_estimator_\n",
        "\n",
        "# Y_pred = best_model.predict(X_test)\n",
        "\n",
        "\n",
        "# accuracy = metrics.accuracy_score(Y_test, Y_pred)\n",
        "# precision = metrics.precision_score(Y_test, Y_pred)\n",
        "# recall = metrics.recall_score(Y_test, Y_pred)\n",
        "# f1 = metrics.f1_score(Y_test, Y_pred)\n",
        "# print(\"Best model - Accuracy: \", accuracy)\n",
        "# print(\"Best model - Recall: \", recall)\n",
        "# print(\"Best model - Precision: \", precision)\n",
        "# print(\"Best model - F1: \", f1)\n",
        "\n",
        "\n",
        "\n",
        "#Final Model off of the grid search / best precision:\n",
        "#Best parameters found:  {'pca__n_components': 6, 'svc__C': 10, 'svc__gamma': 0.1, 'svc__kernel': 'rbf'}\n",
        "#Best model - Accuracy:  0.5609756097560976\n",
        "#Best model - Recall:  0.7169811320754716\n",
        "#Best model - Precision:  0.6440677966101694\n",
        "#Best model - F1:  0.6785714285714285\n"
      ],
      "metadata": {
        "id": "0fQNjA_QUPVo"
      },
      "execution_count": null,
      "outputs": []
    },
    {
      "cell_type": "code",
      "source": [
        "# Fit regression model\n",
        "\n",
        "pca = PCA(n_components=6)\n",
        "X_train = pca.fit_transform(X_train)\n",
        "X_test = pca.fit_transform(X_test)\n",
        "svc_rbf = SVC(kernel='rbf', C=10, gamma=0.1)\n",
        "Y_pred = svc_rbf.fit(X_train, Y_train).predict(X_test)\n",
        "\n",
        "\n",
        "accuracy = metrics.accuracy_score(Y_test, Y_pred)\n",
        "precision = metrics.precision_score(Y_test, Y_pred)\n",
        "recall = metrics.recall_score(Y_test, Y_pred)\n",
        "f1 = metrics.f1_score(Y_test, Y_pred)\n",
        "print(\"Best model - Accuracy: \", accuracy)\n",
        "print(\"Best model - Recall: \", recall)\n",
        "print(\"Best model - Precision: \", precision)\n",
        "print(\"Best model - F1: \", f1)\n"
      ],
      "metadata": {
        "id": "048JRS2IUP_q",
        "colab": {
          "base_uri": "https://localhost:8080/"
        },
        "outputId": "70624eda-f023-467f-f93f-c9d3f00676ac"
      },
      "execution_count": null,
      "outputs": [
        {
          "output_type": "stream",
          "name": "stdout",
          "text": [
            "Best model - Accuracy:  0.5975609756097561\n",
            "Best model - Recall:  0.8113207547169812\n",
            "Best model - Precision:  0.6515151515151515\n",
            "Best model - F1:  0.7226890756302522\n"
          ]
        }
      ]
    },
    {
      "cell_type": "code",
      "source": [
        "# Confusion Matrix\n",
        "from sklearn.metrics import confusion_matrix\n",
        "cnf_matrix = confusion_matrix(Y_test, Y_pred)\n",
        "cnf_matrix\n",
        "\n",
        "import matplotlib.pyplot as plt\n",
        "import seaborn as sns\n",
        "sns.set()\n",
        "class_names=[0,1] # name  of classes\n",
        "fig, ax = plt.subplots()\n",
        "tick_marks = np.arange(len(class_names))\n",
        "plt.xticks(tick_marks, class_names)\n",
        "plt.yticks(tick_marks, class_names)\n",
        "# create heatmap\n",
        "sns.heatmap(cnf_matrix, annot=True, cmap=\"RdYlGn\" ,fmt='g')\n",
        "ax.xaxis.set_label_position(\"top\")\n",
        "plt.tight_layout()\n",
        "plt.title('Confusion matrix', y=1.1)\n",
        "plt.ylabel('Actual label')\n",
        "plt.xlabel('Predicted label')"
      ],
      "metadata": {
        "id": "fEYTvtXnNJCU",
        "colab": {
          "base_uri": "https://localhost:8080/",
          "height": 562
        },
        "outputId": "c00a1211-a8ad-4106-8e27-98b2489e7b5c"
      },
      "execution_count": null,
      "outputs": [
        {
          "output_type": "execute_result",
          "data": {
            "text/plain": [
              "Text(0.5, 427.9555555555555, 'Predicted label')"
            ]
          },
          "metadata": {},
          "execution_count": 7
        },
        {
          "output_type": "display_data",
          "data": {
            "text/plain": [
              "<Figure size 640x480 with 2 Axes>"
            ],
            "image/png": "[encoded data removed]"
          },
          "metadata": {}
        }
      ]
    }
  ]
}